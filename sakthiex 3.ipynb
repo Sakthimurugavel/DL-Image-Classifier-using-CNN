{
  "cells": [
    {
      "cell_type": "code",
      "execution_count": 1,
      "metadata": {
        "id": "MCpypgrNO1_R"
      },
      "outputs": [],
      "source": [
        "import torch\n",
        "import torch.nn as nn\n",
        "import torch.nn.functional as F\n",
        "from torch.utils.data import DataLoader\n",
        "from torchvision import datasets, transforms\n",
        "from torchvision.utils import make_grid\n",
        "\n",
        "import numpy as np\n",
        "import pandas as pd\n",
        "from sklearn.metrics import confusion_matrix\n",
        "import matplotlib.pyplot as plt\n",
        "%matplotlib inline"
      ]
    },
    {
      "cell_type": "code",
      "execution_count": 2,
      "metadata": {
        "id": "jocaX3BDPAXo"
      },
      "outputs": [],
      "source": [
        "transform = transforms.ToTensor()"
      ]
    },
    {
      "cell_type": "code",
      "execution_count": 3,
      "metadata": {
        "colab": {
          "base_uri": "https://localhost:8080/"
        },
        "id": "Lk8pMvaIPF5w",
        "outputId": "973c8ee1-f37e-4c47-d4a5-18e57f95800f"
      },
      "outputs": [
        {
          "name": "stderr",
          "output_type": "stream",
          "text": [
            "100%|██████████| 9.91M/9.91M [00:00<00:00, 18.2MB/s]\n",
            "100%|██████████| 28.9k/28.9k [00:00<00:00, 489kB/s]\n",
            "100%|██████████| 1.65M/1.65M [00:00<00:00, 4.56MB/s]\n",
            "100%|██████████| 4.54k/4.54k [00:00<00:00, 10.0MB/s]\n"
          ]
        }
      ],
      "source": [
        "train_data = datasets.MNIST(root='../Data', train=True, download=True, transform=transform)\n"
      ]
    },
    {
      "cell_type": "code",
      "execution_count": 4,
      "metadata": {
        "id": "LrEj1CS1PKcG"
      },
      "outputs": [],
      "source": [
        "test_data = datasets.MNIST(root='../Data', train=False, download=True, transform=transform)"
      ]
    },
    {
      "cell_type": "code",
      "execution_count": 5,
      "metadata": {
        "colab": {
          "base_uri": "https://localhost:8080/"
        },
        "id": "NuBilaEkPN24",
        "outputId": "940b6322-a1eb-4980-bf7c-84312f71eede"
      },
      "outputs": [
        {
          "data": {
            "text/plain": [
              "Dataset MNIST\n",
              "    Number of datapoints: 60000\n",
              "    Root location: ../Data\n",
              "    Split: Train\n",
              "    StandardTransform\n",
              "Transform: ToTensor()"
            ]
          },
          "execution_count": 5,
          "metadata": {},
          "output_type": "execute_result"
        }
      ],
      "source": [
        "train_data"
      ]
    },
    {
      "cell_type": "code",
      "execution_count": 6,
      "metadata": {
        "colab": {
          "base_uri": "https://localhost:8080/"
        },
        "id": "-g3E6O9KQIue",
        "outputId": "126f3ac3-ba1d-4a43-d639-2d1c3b33620d"
      },
      "outputs": [
        {
          "data": {
            "text/plain": [
              "Dataset MNIST\n",
              "    Number of datapoints: 10000\n",
              "    Root location: ../Data\n",
              "    Split: Test\n",
              "    StandardTransform\n",
              "Transform: ToTensor()"
            ]
          },
          "execution_count": 6,
          "metadata": {},
          "output_type": "execute_result"
        }
      ],
      "source": [
        "test_data\n"
      ]
    },
    {
      "cell_type": "code",
      "execution_count": 7,
      "metadata": {
        "id": "LJ3N2cntQKrc"
      },
      "outputs": [],
      "source": [
        "train_loader = DataLoader(train_data, batch_size=10, shuffle=True)\n",
        "test_loader = DataLoader(test_data, batch_size=10, shuffle=False)"
      ]
    },
    {
      "cell_type": "code",
      "execution_count": 8,
      "metadata": {
        "id": "Bo_nlXK9QNMz"
      },
      "outputs": [],
      "source": [
        "class ConvolutionalNetwork(nn.Module):\n",
        "\n",
        "    def __init__(self):\n",
        "        super().__init__()\n",
        "        self.conv1 = nn.Conv2d(1,6,3,1)\n",
        "        self.conv2 = nn.Conv2d(6,16,3,1)\n",
        "        self.fc1 = nn.Linear(5*5*16,120)\n",
        "        self.fc2 = nn.Linear(120,84)\n",
        "        self.fc3 = nn.Linear(84,10)\n",
        "\n",
        "    def forward(self, X):\n",
        "        X = F.relu(self.conv1(X))\n",
        "        X = F.max_pool2d(X, 2, 2)\n",
        "        X = F.relu(self.conv2(X))\n",
        "        X = F.max_pool2d(X, 2, 2)\n",
        "        X = X.view(-1, 5*5*16)\n",
        "        X = F.relu(self.fc1(X))\n",
        "        X = F.relu(self.fc2(X))\n",
        "        X = self.fc3(X)\n",
        "        return F.log_softmax(X, dim=1)\n"
      ]
    },
    {
      "cell_type": "code",
      "execution_count": 9,
      "metadata": {
        "id": "XZdySQ2lQVBF"
      },
      "outputs": [],
      "source": [
        "criterion = nn.CrossEntropyLoss()\n",
        "model = ConvolutionalNetwork()\n",
        "optimizer = torch.optim.Adam(model.parameters(), lr=0.001)"
      ]
    },
    {
      "cell_type": "code",
      "execution_count": 10,
      "metadata": {
        "id": "gPJ55y4hQWz6"
      },
      "outputs": [],
      "source": [
        "import time\n",
        "start_time = time.time()"
      ]
    },
    {
      "cell_type": "code",
      "execution_count": 11,
      "metadata": {
        "id": "ROIK7k2JQY6p"
      },
      "outputs": [],
      "source": [
        "epochs = 5\n",
        "train_losses = []\n",
        "test_losses = []\n",
        "train_correct = []\n",
        "test_correct = []"
      ]
    },
    {
      "cell_type": "code",
      "execution_count": 12,
      "metadata": {
        "colab": {
          "base_uri": "https://localhost:8080/"
        },
        "id": "RjmkVllyQaz0",
        "outputId": "779aed00-960a-4e34-a663-d96ea370def2"
      },
      "outputs": [
        {
          "name": "stdout",
          "output_type": "stream",
          "text": [
            "epoch: 0  batch: 600 loss: 0.1763140857219696\n",
            "epoch: 0  batch: 1200 loss: 0.031977228820323944\n",
            "epoch: 0  batch: 1800 loss: 0.1114189475774765\n",
            "epoch: 0  batch: 2400 loss: 0.14287278056144714\n",
            "epoch: 0  batch: 3000 loss: 0.028391968458890915\n",
            "epoch: 0  batch: 3600 loss: 0.007227523718029261\n",
            "epoch: 0  batch: 4200 loss: 0.05779891088604927\n",
            "epoch: 0  batch: 4800 loss: 0.05178244784474373\n",
            "epoch: 0  batch: 5400 loss: 0.0011467116419225931\n",
            "epoch: 0  batch: 6000 loss: 0.0074218204244971275\n",
            "epoch: 1  batch: 600 loss: 0.0001882580982055515\n",
            "epoch: 1  batch: 1200 loss: 0.04644296318292618\n",
            "epoch: 1  batch: 1800 loss: 0.06096656247973442\n",
            "epoch: 1  batch: 2400 loss: 0.000984293525107205\n",
            "epoch: 1  batch: 3000 loss: 0.0091342031955719\n",
            "epoch: 1  batch: 3600 loss: 0.09886748343706131\n",
            "epoch: 1  batch: 4200 loss: 0.1348010152578354\n",
            "epoch: 1  batch: 4800 loss: 0.008983848616480827\n",
            "epoch: 1  batch: 5400 loss: 0.019538812339305878\n",
            "epoch: 1  batch: 6000 loss: 0.02810201421380043\n",
            "epoch: 2  batch: 600 loss: 0.004102869890630245\n",
            "epoch: 2  batch: 1200 loss: 0.00927954725921154\n",
            "epoch: 2  batch: 1800 loss: 0.0005556930555030704\n",
            "epoch: 2  batch: 2400 loss: 0.004239896312355995\n",
            "epoch: 2  batch: 3000 loss: 0.2508224546909332\n",
            "epoch: 2  batch: 3600 loss: 0.013191943988204002\n",
            "epoch: 2  batch: 4200 loss: 0.005919060204178095\n",
            "epoch: 2  batch: 4800 loss: 0.00043003400787711143\n",
            "epoch: 2  batch: 5400 loss: 0.1323954463005066\n",
            "epoch: 2  batch: 6000 loss: 6.532482075272128e-05\n",
            "epoch: 3  batch: 600 loss: 0.0007600117824040353\n",
            "epoch: 3  batch: 1200 loss: 0.24224047362804413\n",
            "epoch: 3  batch: 1800 loss: 0.0006650381837971509\n",
            "epoch: 3  batch: 2400 loss: 4.3482585169840604e-05\n",
            "epoch: 3  batch: 3000 loss: 0.028330525383353233\n",
            "epoch: 3  batch: 3600 loss: 0.00029312091646716\n",
            "epoch: 3  batch: 4200 loss: 0.005690178368240595\n",
            "epoch: 3  batch: 4800 loss: 0.10021356493234634\n",
            "epoch: 3  batch: 5400 loss: 0.00012406983296386898\n",
            "epoch: 3  batch: 6000 loss: 0.010868284851312637\n",
            "epoch: 4  batch: 600 loss: 0.00030510680517181754\n",
            "epoch: 4  batch: 1200 loss: 0.0033297904301434755\n",
            "epoch: 4  batch: 1800 loss: 0.0035304357297718525\n",
            "epoch: 4  batch: 2400 loss: 0.0016270738560706377\n",
            "epoch: 4  batch: 3000 loss: 0.0019584852270781994\n",
            "epoch: 4  batch: 3600 loss: 0.000451112340670079\n",
            "epoch: 4  batch: 4200 loss: 9.417346518603154e-06\n",
            "epoch: 4  batch: 4800 loss: 0.03839058429002762\n",
            "epoch: 4  batch: 5400 loss: 0.0001716547121759504\n",
            "epoch: 4  batch: 6000 loss: 0.10119356215000153\n",
            "Training took 3.275239725907644 minutes\n"
          ]
        }
      ],
      "source": [
        "for i in range(epochs):\n",
        "\n",
        "    trn_corr = 0\n",
        "    tst_corr = 0\n",
        "\n",
        "\n",
        "    # Run the training batches\n",
        "    for b, (X_train, y_train) in enumerate(train_loader):\n",
        "        b+=1\n",
        "\n",
        "        # Apply the model\n",
        "        y_pred = model(X_train)  # we not flatten X-train here\n",
        "        loss = criterion(y_pred, y_train)\n",
        "\n",
        "\n",
        "        predicted = torch.max(y_pred.data, 1)[1]\n",
        "        batch_corr = (predicted == y_train).sum()  # Trure 1 / False 0 sum()\n",
        "        trn_corr += batch_corr\n",
        "\n",
        "        # Update parameters\n",
        "        optimizer.zero_grad()\n",
        "        loss.backward()\n",
        "        optimizer.step()\n",
        "\n",
        "        # Print interim results\n",
        "        if b%600 == 0:\n",
        "            print(f'epoch: {i}  batch: {b} loss: {loss.item()}')\n",
        "\n",
        "    train_losses.append(loss)\n",
        "    train_correct.append(trn_corr)\n",
        "\n",
        "    # Run the testing batches\n",
        "    with torch.no_grad():\n",
        "        for b, (X_test, y_test) in enumerate(test_loader):\n",
        "\n",
        "            # Apply the model\n",
        "            y_val = model(X_test)\n",
        "\n",
        "            # Tally the number of correct predictions\n",
        "            predicted = torch.max(y_val.data, 1)[1]\n",
        "            tst_corr += (predicted == y_test).sum()\n",
        "\n",
        "    loss = criterion(y_val, y_test)\n",
        "    test_losses.append(loss)\n",
        "    test_correct.append(tst_corr)\n",
        "\n",
        "current_time = time.time()\n",
        "total = current_time - start_time\n",
        "print(f'Training took {total/60} minutes')"
      ]
    },
    {
      "cell_type": "code",
      "execution_count": 13,
      "metadata": {
        "colab": {
          "base_uri": "https://localhost:8080/",
          "height": 452
        },
        "id": "80skCFlDQgA_",
        "outputId": "6e75d10f-5f04-4073-e5ce-fed7c0110782"
      },
      "outputs": [
        {
          "data": {
            "image/png": "[encoded data removed]",
            "text/plain": [
              "<Figure size 640x480 with 1 Axes>"
            ]
          },
          "metadata": {},
          "output_type": "display_data"
        }
      ],
      "source": [
        "train_losses = [t.detach().numpy() for t in train_losses]\n",
        "test_losses = [t.detach().numpy() for t in test_losses]\n",
        "\n",
        "plt.plot(train_losses, label='training loss')\n",
        "plt.plot(test_losses, label='validation loss')\n",
        "plt.title('Loss at the end of each epoch')\n",
        "plt.legend();\n",
        "plt.show()"
      ]
    },
    {
      "cell_type": "code",
      "execution_count": 14,
      "metadata": {
        "colab": {
          "base_uri": "https://localhost:8080/",
          "height": 452
        },
        "id": "v3C1KZysRPuL",
        "outputId": "1f455f5a-d749-4ae1-8bcb-44abf77a8fd4"
      },
      "outputs": [
        {
          "data": {
            "image/png": "[encoded data removed]",
            "text/plain": [
              "<Figure size 640x480 with 1 Axes>"
            ]
          },
          "metadata": {},
          "output_type": "display_data"
        }
      ],
      "source": [
        "plt.plot([t/600 for t in train_correct], label='training accuracy')\n",
        "plt.plot([t/100 for t in test_correct], label='validation accuracy')\n",
        "plt.title('Accuracy at the end of each epoch')\n",
        "plt.legend();\n",
        "plt.show()"
      ]
    },
    {
      "cell_type": "code",
      "execution_count": 15,
      "metadata": {
        "colab": {
          "base_uri": "https://localhost:8080/"
        },
        "id": "xIbIK7uORLDf",
        "outputId": "c30b5a77-fc25-4b13-deb6-4f63e78d8a65"
      },
      "outputs": [
        {
          "name": "stdout",
          "output_type": "stream",
          "text": [
            "[[   0    1    2    3    4    5    6    7    8    9]]\n",
            "\n",
            "[[   1    0    0    0    0    0    0    0    0    0]\n",
            " [   0    1    0    0    0    0    0    0    0    0]\n",
            " [   0    0    1    0    0    0    0    0    0    0]\n",
            " [   0    0    0    1    0    0    0    0    0    0]\n",
            " [   0    0    0    0    1    0    0    0    0    0]\n",
            " [   0    0    0    0    0    1    0    0    0    0]\n",
            " [   0    0    0    0    0    0    1    0    0    0]\n",
            " [   0    0    0    0    0    0    0    1    0    0]\n",
            " [   0    0    0    0    0    0    0    0    1    0]\n",
            " [   0    0    0    0    0    0    0    0    0    1]]\n"
          ]
        }
      ],
      "source": [
        "np.set_printoptions(formatter=dict(int=lambda x: f'{x:4}'))\n",
        "print(np.arange(10).reshape(1,10))\n",
        "print()\n",
        "\n",
        "print(confusion_matrix(predicted.view(-1), y_test.view(-1)))"
      ]
    },
    {
      "cell_type": "code",
      "execution_count": null,
      "metadata": {
        "id": "Xg4bnqsxRTLK"
      },
      "outputs": [],
      "source": [
        "torch.save(model.state_dict(),'kabilan T.pt')"
      ]
    },
    {
      "cell_type": "code",
      "execution_count": null,
      "metadata": {
        "id": "jKHn5gVORYZt"
      },
      "outputs": [],
      "source": []
    }
  ],
  "metadata": {
    "accelerator": "GPU",
    "colab": {
      "gpuType": "T4",
      "provenance": []
    },
    "kernelspec": {
      "display_name": "Python 3",
      "name": "python3"
    },
    "language_info": {
      "name": "python"
    }
  },
  "nbformat": 4,
  "nbformat_minor": 0
}
